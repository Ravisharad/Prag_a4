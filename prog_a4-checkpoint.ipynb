{
 "cells": [
  {
   "cell_type": "code",
   "execution_count": null,
   "id": "242f8cd0",
   "metadata": {},
   "outputs": [],
   "source": [
    "#1 Write a Python Program to Find the Factorial of a Number?"
   ]
  },
  {
   "cell_type": "code",
   "execution_count": 2,
   "id": "75c18e5e",
   "metadata": {},
   "outputs": [
    {
     "name": "stdout",
     "output_type": "stream",
     "text": [
      "Enter number value:5\n",
      "factorial of 5  is 120\n"
     ]
    }
   ],
   "source": [
    "num = int(input(\"Enter number value:\"))\n",
    "factorial = 1\n",
    "if num<0:\n",
    "    print(\" Factorial does not exists\")\n",
    "elif num == 0:\n",
    "    print(\"Factorial is 1\")\n",
    "else:\n",
    "    for var in range(1, num+1):\n",
    "        factorial = factorial* var\n",
    "    print(\"factorial of\", num,\" is\", factorial)"
   ]
  },
  {
   "cell_type": "code",
   "execution_count": null,
   "id": "580cadd8",
   "metadata": {},
   "outputs": [],
   "source": [
    "2. Write a Python Program to Display the multiplication Table?"
   ]
  },
  {
   "cell_type": "code",
   "execution_count": 5,
   "id": "8a0f9e25",
   "metadata": {},
   "outputs": [
    {
     "name": "stdout",
     "output_type": "stream",
     "text": [
      "Enter number value:6\n",
      "The multiplication table: 6\n",
      "6 x 1 = 6\n",
      "6 x 2 = 12\n",
      "6 x 3 = 18\n",
      "6 x 4 = 24\n",
      "6 x 5 = 30\n",
      "6 x 6 = 36\n",
      "6 x 7 = 42\n",
      "6 x 8 = 48\n",
      "6 x 9 = 54\n",
      "6 x 10 = 60\n"
     ]
    }
   ],
   "source": [
    "num = int(input(\"Enter number value:\"))\n",
    "count = 1\n",
    "print(\"The multiplication table:\", num)\n",
    "while count <=10:\n",
    "    \n",
    "    print(num, 'x', count, '=', num*count )\n",
    "    count +=1"
   ]
  },
  {
   "cell_type": "code",
   "execution_count": null,
   "id": "7c93583f",
   "metadata": {},
   "outputs": [],
   "source": [
    "3. Write a Python Program to Print the Fibonacci sequence?"
   ]
  },
  {
   "cell_type": "code",
   "execution_count": 7,
   "id": "0f68a550",
   "metadata": {},
   "outputs": [
    {
     "name": "stdout",
     "output_type": "stream",
     "text": [
      "enter terms to be printed:5\n",
      "fibonacci series is:\n",
      "0\n",
      "1\n",
      "1\n",
      "2\n",
      "3\n"
     ]
    }
   ],
   "source": [
    "n_terms = int(input(\"enter terms to be printed:\"))\n",
    "n_1 = 0\n",
    "n_2 = 1\n",
    "count = 0\n",
    "if n_terms <=0:\n",
    "    print(\"Only positive intergers valid\")\n",
    "elif n_terms == 1:\n",
    "    print(\"fibonaaci upto\",n_terms,\":\")\n",
    "    print(n_1)\n",
    "else:\n",
    "    print(\"fibonacci series is:\")\n",
    "    while count< n_terms:\n",
    "        print(n_1)\n",
    "        nth = n_1 + n_2\n",
    "        n_1 = n_2\n",
    "        n_2 = nth\n",
    "        count +=1"
   ]
  },
  {
   "cell_type": "code",
   "execution_count": null,
   "id": "7d706879",
   "metadata": {},
   "outputs": [],
   "source": [
    "# 4. Write a Python Program to Check Armstrong Number?"
   ]
  },
  {
   "cell_type": "code",
   "execution_count": 39,
   "id": "d0ce0b92",
   "metadata": {},
   "outputs": [
    {
     "name": "stdout",
     "output_type": "stream",
     "text": [
      "Enter the number:3891\n",
      "given number not armstrong\n"
     ]
    }
   ],
   "source": [
    "num = int(input(\"Enter the number:\"))\n",
    "sum = 0\n",
    "digits = len(str(num))\n",
    "copy = num\n",
    "while (num > 0):\n",
    "    tl = num%10\n",
    "    sum +=tl**digits\n",
    "    num = num//10\n",
    "if sum == copy:\n",
    "    print(\" given number is armstrong\")\n",
    "else:\n",
    "    print(\"given number not armstrong\")"
   ]
  },
  {
   "cell_type": "code",
   "execution_count": null,
   "id": "dc1d2d79",
   "metadata": {},
   "outputs": [],
   "source": [
    "# 5. Write a Python Program to Find Armstrong Number in an Interval?"
   ]
  },
  {
   "cell_type": "code",
   "execution_count": 37,
   "id": "eae0ce56",
   "metadata": {},
   "outputs": [
    {
     "name": "stdout",
     "output_type": "stream",
     "text": [
      "enter lower range:100\n",
      "Enter upper range:500\n",
      "153\n",
      "370\n",
      "371\n",
      "407\n"
     ]
    }
   ],
   "source": [
    "lower = int(input(\"enter lower range:\"))\n",
    "upper = int(input(\"Enter upper range:\"))\n",
    "for num in range (lower, upper+1):\n",
    "    sum =0\n",
    "    temp = num\n",
    "    while temp >0:\n",
    "        \n",
    "        digit = temp%10\n",
    "        sum += digit**3\n",
    "        temp = temp//10\n",
    "    if  num==sum:\n",
    "        print(num)\n",
    "        "
   ]
  },
  {
   "cell_type": "code",
   "execution_count": null,
   "id": "666cca30",
   "metadata": {},
   "outputs": [],
   "source": [
    "#6. Write a Python Program to Find the Sum of Natural Numbers?"
   ]
  },
  {
   "cell_type": "code",
   "execution_count": 46,
   "id": "2aff3559",
   "metadata": {},
   "outputs": [
    {
     "name": "stdout",
     "output_type": "stream",
     "text": [
      "Enter a number:100\n",
      "sum is 5050\n"
     ]
    }
   ],
   "source": [
    "num = int(input(\"Enter a number:\"))\n",
    "\n",
    "if num<0:\n",
    "    print(\"Enter positive integers only\")\n",
    "else:\n",
    "    sum =0\n",
    "    while(num>0):\n",
    "        sum += num\n",
    "        num -=1\n",
    "    print(\"sum is\", sum)"
   ]
  },
  {
   "cell_type": "code",
   "execution_count": null,
   "id": "23633579",
   "metadata": {},
   "outputs": [],
   "source": []
  }
 ],
 "metadata": {
  "kernelspec": {
   "display_name": "Python 3",
   "language": "python",
   "name": "python3"
  },
  "language_info": {
   "codemirror_mode": {
    "name": "ipython",
    "version": 3
   },
   "file_extension": ".py",
   "mimetype": "text/x-python",
   "name": "python",
   "nbconvert_exporter": "python",
   "pygments_lexer": "ipython3",
   "version": "3.8.8"
  }
 },
 "nbformat": 4,
 "nbformat_minor": 5
}
